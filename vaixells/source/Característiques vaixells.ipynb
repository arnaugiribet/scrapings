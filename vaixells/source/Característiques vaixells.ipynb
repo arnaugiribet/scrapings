{
 "cells": [
  {
   "cell_type": "code",
   "execution_count": 3,
   "metadata": {},
   "outputs": [],
   "source": [
    "from random import randint\n",
    "from time import sleep\n",
    "from selenium import webdriver\n",
    "from selenium.webdriver.common.keys import Keys\n",
    "from selenium.webdriver.chrome.service import Service\n",
    "from selenium.webdriver.common.by import By\n",
    "from selenium.webdriver.support.ui import Select\n",
    "import os\n",
    "import pandas\n",
    "def s(t1,t2):\n",
    "    sleep(randint(1000*t1,1000*t1+1000*t2)/1000)"
   ]
  },
  {
   "cell_type": "code",
   "execution_count": 2,
   "metadata": {},
   "outputs": [],
   "source": [
    "serv = Service('../chromedriver.exe')\n",
    "driver = webdriver.Chrome(service=serv)\n",
    "\n",
    "link = 'https://tarragona.posidoniaport.com/'\n",
    "\n",
    "driver.get(link)\n",
    "\n",
    "#entro a històric i hi poso les dates manualment\n",
    "#1 de gener 2019 00:00 a 31 de desembre 2019 23:59\n",
    "#màxim (30) de files per pàgina"
   ]
  },
  {
   "cell_type": "code",
   "execution_count": 177,
   "metadata": {},
   "outputs": [],
   "source": [
    "#creo dataframe buit\n",
    "df = pandas.DataFrame(columns = ['Nom', 'Tipus', 'MO', 'Lloyds', 'Bandera', \n",
    "                                 'Calat real', 'GT', 'Mànega', 'Eslora'])"
   ]
  },
  {
   "cell_type": "code",
   "execution_count": 190,
   "metadata": {},
   "outputs": [
    {
     "name": "stdout",
     "output_type": "stream",
     "text": [
      "1 2 3 4 5 6 7 8 9 10 11 12 13 14 15 16 17 18 19 20 21 22 23 24 25 26 27 28 29 30 31 32 33 34 35 36 37 "
     ]
    }
   ],
   "source": [
    "#inici loop\n",
    "pagines=range(0,125)\n",
    "k=0\n",
    "grid = 'grid_1666900370744' #aquest canvia a cada sessió nova, cal buscar-lo amb inspeccionar\n",
    "nextpage = 'next_pager858' #aquest també\n",
    "\n",
    "#per buscar-los suggereixo fer cntrl+f i buscar grid_ i next_pager, amb això es trobarà ràpidament l'identificador\n",
    "\n",
    "for pag in pagines:\n",
    "    k += 1\n",
    "    print(k,end=' ')    \n",
    "    \n",
    "    s(1,2)\n",
    "    \n",
    "    table_id = driver.find_element(By.XPATH, \"//table[@id='\"+grid+\"']\") \n",
    "    rows = table_id.find_elements(By.CSS_SELECTOR, \"[tabindex='-1']\")\n",
    "    \n",
    "    for row in rows:\n",
    "        nom = row.find_elements(By.CSS_SELECTOR,\"[aria-describedby=\"+grid+\"_nombuq]\")[0].text\n",
    "\n",
    "        if nom not in df['Nom'].values:\n",
    "            row.find_elements(By.CLASS_NAME,\"linkformgisweb\")[0].click()\n",
    "            s(5,3)\n",
    "            \n",
    "            df_tmp = pandas.DataFrame({\n",
    "                'Nom':nom,\n",
    "                'Tipus':driver.find_elements(By.CSS_SELECTOR,\"[data-bind='value: destipbuq']\")[0].get_attribute('value'),\n",
    "                'MO':driver.find_elements(By.CSS_SELECTOR,\"[data-bind='value: codbuq']\")[0].get_attribute('value'),\n",
    "                'Lloyds':driver.find_elements(By.CSS_SELECTOR,\"[data-bind='value: lloyds']\")[0].get_attribute('value'),\n",
    "                'Bandera':driver.find_elements(By.CSS_SELECTOR,\"[data-bind='value: bandera']\")[0].get_attribute('value'),\n",
    "                'Calat real':driver.find_elements(By.CSS_SELECTOR,\"[data-bind='value: calrea']\")[0].get_attribute('value'),\n",
    "                'GT':driver.find_elements(By.CSS_SELECTOR,\"[data-bind='value: gt']\")[0].get_attribute('value'),\n",
    "                'Mànega':driver.find_elements(By.CSS_SELECTOR,\"[data-bind='value: manga']\")[0].get_attribute('value'),\n",
    "                'Eslora':driver.find_elements(By.CSS_SELECTOR,\"[data-bind='value: eslora']\")[0].get_attribute('value')},\n",
    "                index=[0])\n",
    "            \n",
    "            df_tmp['GT']=df_tmp['GT'].str.replace('.','', regex=True)\n",
    "            \n",
    "            df=pandas.concat([df,df_tmp])\n",
    "            \n",
    "            driver.find_elements(By.CSS_SELECTOR,\"[class='ui-icon ui-icon-closethick']\")[1].click()\n",
    "            s(1,1)\n",
    "    \n",
    "    #canvi de pàgina    \n",
    "    driver.find_element(By.XPATH, \"//td[@id='\"+nextpage+\"']\").click() #també cal actualitzar-lo a cada nova sessió"
   ]
  },
  {
   "cell_type": "code",
   "execution_count": 203,
   "metadata": {},
   "outputs": [],
   "source": [
    "df2 = df.astype({\"Calat real\":\"float\",\n",
    "                \"GT\":\"float\",\n",
    "                \"Mànega\":\"float\",\n",
    "                \"Eslora\":\"float\"})"
   ]
  },
  {
   "cell_type": "code",
   "execution_count": 204,
   "metadata": {},
   "outputs": [],
   "source": [
    "df2.index = range(1,len(df2)+1)\n",
    "df2.to_excel('../dataset/Característiques Vaixells_2019.xlsx')"
   ]
  },
  {
   "cell_type": "code",
   "execution_count": null,
   "metadata": {},
   "outputs": [],
   "source": []
  }
 ],
 "metadata": {
  "kernelspec": {
   "display_name": "Python 3 (ipykernel)",
   "language": "python",
   "name": "python3"
  },
  "language_info": {
   "codemirror_mode": {
    "name": "ipython",
    "version": 3
   },
   "file_extension": ".py",
   "mimetype": "text/x-python",
   "name": "python",
   "nbconvert_exporter": "python",
   "pygments_lexer": "ipython3",
   "version": "3.9.13"
  }
 },
 "nbformat": 4,
 "nbformat_minor": 2
}
