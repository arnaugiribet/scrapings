{
 "cells": [
  {
   "cell_type": "code",
   "execution_count": 1,
   "metadata": {},
   "outputs": [],
   "source": [
    "from random import randint\n",
    "from time import sleep\n",
    "from selenium import webdriver\n",
    "from selenium.webdriver.common.keys import Keys\n",
    "from selenium.webdriver.chrome.service import Service\n",
    "from selenium.webdriver.common.by import By\n",
    "from selenium.webdriver.support.ui import Select\n",
    "import os\n",
    "import pandas\n",
    "def s(t1,t2):\n",
    "    sleep(randint(1000*t1,1000*t1+1000*t2)/1000)"
   ]
  },
  {
   "cell_type": "code",
   "execution_count": 8,
   "metadata": {},
   "outputs": [],
   "source": [
    "serv = Service('../../chromedriver.exe')\n",
    "driver = webdriver.Chrome(service=serv)\n",
    "\n",
    "link = 'https://tarragona.posidoniaport.com/'\n",
    "data_inici=\"01/01/2019 00:00\"\n",
    "data_fi=\"31/12/2019 23:59\"\n",
    "\n",
    "driver.get(link)\n",
    "\n",
    "s(5,2)\n",
    "driver.find_element(By.XPATH, \"//span[@id='historicos']\").click()\n",
    "s(1,2)\n",
    "driver.find_elements(By.CSS_SELECTOR, \"[data-bind='datetimepicker: fecatr']\")[0].clear()\n",
    "s(1,2)\n",
    "driver.find_elements(By.CSS_SELECTOR, \"[data-bind='datetimepicker: fecatr']\")[0].send_keys(data_inici)\n",
    "s(1,2)\n",
    "driver.find_elements(By.CSS_SELECTOR, \"[data-bind='datetimepicker: fecsal, mindate: fecatr']\")[0].clear()\n",
    "s(1,2)\n",
    "driver.find_elements(By.CSS_SELECTOR, \"[data-bind='datetimepicker: fecatr']\")[0].send_keys(data_fi)\n",
    "\n",
    "\n",
    "#màxim (30) de files per pàgina"
   ]
  },
  {
   "cell_type": "code",
   "execution_count": 242,
   "metadata": {},
   "outputs": [],
   "source": [
    "#creo dataframe buit\n",
    "df = pandas.DataFrame(columns = ['Escala', 'Vaixell', 'Moll', 'Entrada', 'Sortida', 'Consignatari', \n",
    "                                 'Eslora', 'Tipus', 'Mercaderia', 'Tn', 'Estibador'])"
   ]
  },
  {
   "cell_type": "code",
   "execution_count": 243,
   "metadata": {},
   "outputs": [
    {
     "name": "stdout",
     "output_type": "stream",
     "text": [
      "1 2 3 4 5 6 7 8 9 10 11 12 13 14 15 16 17 18 19 20 21 22 23 24 25 26 27 28 29 30 31 32 33 34 35 36 37 38 39 40 41 42 43 44 45 46 47 48 49 50 51 52 53 54 55 56 57 58 59 60 61 62 63 64 65 66 67 68 69 70 71 72 73 74 75 76 77 78 79 80 81 82 83 84 85 86 87 88 89 90 91 92 93 94 95 96 97 98 99 100 101 102 103 104 105 106 107 108 109 110 111 112 113 114 115 116 117 118 119 120 121 122 123 124 "
     ]
    }
   ],
   "source": [
    "#inici loop\n",
    "pagines=range(0,124)\n",
    "k=0\n",
    "\n",
    "for pag in pagines:\n",
    "    k += 1\n",
    "    print('Pàgina',k)    \n",
    "    \n",
    "    s(1,2)\n",
    "    \n",
    "    table_id = driver.find_element(By.XPATH, \"//table[@id='grid_1666607014080']\")\n",
    "    rows = table_id.find_elements(By.CSS_SELECTOR, \"[tabindex='-1']\")\n",
    "\n",
    "    for row in rows:\n",
    "        \n",
    "        df_tmp = pandas.DataFrame({\n",
    "        'Escala':row.find_elements(By.CSS_SELECTOR,\"[aria-describedby=grid_1666607014080_esccod]\")[0].text,\n",
    "        'Vaixell':row.find_elements(By.CSS_SELECTOR,\"[aria-describedby=grid_1666607014080_nombuq]\")[0].text,\n",
    "        'Moll':row.find_elements(By.CSS_SELECTOR,\"[aria-describedby=grid_1666607014080_desmue]\")[0].text,\n",
    "        'Entrada':row.find_elements(By.CSS_SELECTOR,\"[aria-describedby=grid_1666607014080_fecatr]\")[0].text,\n",
    "        'Sortida':row.find_elements(By.CSS_SELECTOR,\"[aria-describedby=grid_1666607014080_fecsal]\")[0].text,\n",
    "        'Consignatari':row.find_elements(By.CSS_SELECTOR,\"[aria-describedby=grid_1666607014080_nomcsg]\")[0].text,\n",
    "        'Eslora':row.find_elements(By.CSS_SELECTOR,\"[aria-describedby=grid_1666607014080_eslora]\")[0].text,\n",
    "        'Tipus':row.find_elements(By.CSS_SELECTOR,\"[aria-describedby=grid_1666607014080_optipo]\")[0].text,\n",
    "        'Mercaderia':row.find_elements(By.CSS_SELECTOR,\"[aria-describedby=grid_1666607014080_opmercancia]\")[0].text,\n",
    "        'Tn':row.find_elements(By.CSS_SELECTOR,\"[aria-describedby=grid_1666607014080_optoneladas]\")[0].text,\n",
    "        'Estibador':row.find_elements(By.CSS_SELECTOR,\"[aria-describedby=grid_1666607014080_opestibador]\")[0].text},\n",
    "        index=[0])\n",
    "    \n",
    "        df_tmp['Escala']=df_tmp['Escala'].str.replace('.','', regex=True)\n",
    "        df_tmp['Eslora']=df_tmp['Eslora'].str.replace('.','', regex=True)\n",
    "        df_tmp['Tn']=df_tmp['Tn'].str.replace('.','', regex=True)\n",
    "        df=pandas.concat([df,df_tmp])\n",
    "    \n",
    "    #canvi de pàgina    \n",
    "    driver.find_element(By.XPATH, \"//td[@id='next_pager214']\").click()"
   ]
  },
  {
   "cell_type": "code",
   "execution_count": 244,
   "metadata": {},
   "outputs": [],
   "source": [
    "df2 = df.astype({\"Escala\":\"float\",\n",
    "                \"Eslora\":\"float\"})"
   ]
  },
  {
   "cell_type": "code",
   "execution_count": 245,
   "metadata": {},
   "outputs": [],
   "source": [
    "df2.index = range(1,len(df2)+1)\n",
    "df2.to_excel('../dataset/Escales Vaixells_2019.xlsx')"
   ]
  },
  {
   "cell_type": "code",
   "execution_count": null,
   "metadata": {},
   "outputs": [],
   "source": []
  }
 ],
 "metadata": {
  "kernelspec": {
   "display_name": "Python 3 (ipykernel)",
   "language": "python",
   "name": "python3"
  },
  "language_info": {
   "codemirror_mode": {
    "name": "ipython",
    "version": 3
   },
   "file_extension": ".py",
   "mimetype": "text/x-python",
   "name": "python",
   "nbconvert_exporter": "python",
   "pygments_lexer": "ipython3",
   "version": "3.9.13"
  }
 },
 "nbformat": 4,
 "nbformat_minor": 2
}
