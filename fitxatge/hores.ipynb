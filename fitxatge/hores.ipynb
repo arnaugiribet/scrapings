{
 "cells": [
  {
   "cell_type": "code",
   "execution_count": 1,
   "metadata": {},
   "outputs": [],
   "source": [
    "from random import randint\n",
    "from time import sleep\n",
    "from selenium import webdriver\n",
    "from selenium.webdriver.common.keys import Keys\n",
    "from selenium.webdriver.chrome.service import Service\n",
    "from selenium.webdriver.common.by import By\n",
    "from selenium.webdriver.support.ui import Select\n",
    "import os\n",
    "def s(t1,t2):\n",
    "    sleep(randint(1000*t1,1000*t1+1000*t2)/1000)"
   ]
  },
  {
   "cell_type": "code",
   "execution_count": 6,
   "metadata": {},
   "outputs": [],
   "source": [
    "serv = Service('../chromedriver.exe')\n",
    "driver = webdriver.Chrome(service=serv)\n",
    "\n",
    "link = 'https://atriportal.intranet.gencat.cat/ATRI-ng/#/inici'\n",
    "\n",
    "driver.get(link)\n",
    "\n",
    "#aquí accedir amb les credencials personals"
   ]
  },
  {
   "cell_type": "code",
   "execution_count": 248,
   "metadata": {},
   "outputs": [],
   "source": [
    "driver.find_element(by=By.XPATH, value= \"//button[@class='navbar-toggler ml-auto collapsed']\").click()"
   ]
  },
  {
   "cell_type": "code",
   "execution_count": 262,
   "metadata": {},
   "outputs": [],
   "source": [
    "driver.switch_to.default_content()"
   ]
  },
  {
   "cell_type": "code",
   "execution_count": 263,
   "metadata": {},
   "outputs": [
    {
     "name": "stdout",
     "output_type": "stream",
     "text": [
      "2\n",
      "3\n",
      "4\n",
      "9\n",
      "10\n",
      "11\n",
      "15\n",
      "16\n",
      "23\n",
      "24\n",
      "25\n",
      "28\n",
      "30\n",
      "31\n"
     ]
    }
   ],
   "source": [
    "#establir dies, mes i any a fitxar\n",
    "Mes = 'Abril'\n",
    "Any = '2022'\n",
    "dies = [1,6,7,8,13,14,15,18,20,21,22,27,28,29]\n",
    "\n",
    "for dia in dies:\n",
    "    print(dia, end=' ')\n",
    "    driver.find_element(by=By.XPATH, value= \"//i[@class='atri-icon fa fa-calendar-alt pr-2 ng-star-inserted']\").click()\n",
    "    s(1,1)\n",
    "    elem=driver.find_element(by=By.XPATH, value= \"//div[@class='nav-item dropdown flex-fill ng-star-inserted']\")\n",
    "    s(1,1)\n",
    "    driver.find_element(by=By.XPATH, value= \"//a[text()='Justificació de no presència']\").click()\n",
    "    s(1,1)\n",
    "    iframe = driver.find_element(by=By.XPATH, value=\"//iframe[@id='appIFrame']\")\n",
    "    s(1,1)\n",
    "    driver.switch_to.frame(iframe)\n",
    "    s(1,1)\n",
    "    select = Select(driver.find_element(by=By.NAME, value= \"justifica\"))\n",
    "    s(1,1)\n",
    "    select.select_by_visible_text('Teletreball')\n",
    "    s(1,1)\n",
    "    driver.find_element(by=By.XPATH, value=\"//a[text()='Accepta']\").click()\n",
    "    s(1,1)\n",
    "    driver.find_element(by=By.XPATH, value=\"//img[@class='ui-datepicker-trigger']\").click()\n",
    "    s(1,1)\n",
    "    select = Select(driver.find_element(by=By.CLASS_NAME, value= \"ui-datepicker-year\"))\n",
    "    select.select_by_visible_text(Any)\n",
    "    s(1,1)\n",
    "    select = Select(driver.find_element(by=By.CLASS_NAME, value= \"ui-datepicker-month\"))\n",
    "    select.select_by_visible_text(Mes)\n",
    "    s(1,1)\n",
    "    val=\"//td[@data-handler='selectDay']//a[text()='\"+str(dia)+\"']\"\n",
    "    driver.find_element(by=By.XPATH, value=val).click()\n",
    "    s(1,1)\n",
    "    select = Select(driver.find_element(by=By.ID, value= \"iniMarcatgeH\"))\n",
    "    select.select_by_visible_text('08')\n",
    "    s(1,1)\n",
    "    select = Select(driver.find_element(by=By.ID, value= \"iniMarcatgeM\"))\n",
    "    select.select_by_visible_text('00')\n",
    "    s(1,1)\n",
    "    select = Select(driver.find_element(by=By.ID, value= \"fiMarcatgeH\"))\n",
    "    select.select_by_visible_text('16')\n",
    "    s(1,1)\n",
    "    select = Select(driver.find_element(by=By.ID, value= \"fiMarcatgeM\"))\n",
    "    select.select_by_visible_text('00')\n",
    "    s(1,1)\n",
    "    inputElement = driver.find_element(by=By.XPATH, value=\"//input[@name='observacions']\")\n",
    "    inputElement.send_keys('Teletreball')\n",
    "    s(1,1)\n",
    "    driver.find_element(by=By.XPATH, value=\"//a[text()='Accepta']\").click()\n",
    "    s(1,1)\n",
    "    driver.switch_to.default_content()\n",
    "    s(1,1)"
   ]
  }
 ],
 "metadata": {
  "kernelspec": {
   "display_name": "Python 3 (ipykernel)",
   "language": "python",
   "name": "python3"
  },
  "language_info": {
   "codemirror_mode": {
    "name": "ipython",
    "version": 3
   },
   "file_extension": ".py",
   "mimetype": "text/x-python",
   "name": "python",
   "nbconvert_exporter": "python",
   "pygments_lexer": "ipython3",
   "version": "3.9.13"
  }
 },
 "nbformat": 4,
 "nbformat_minor": 2
}
